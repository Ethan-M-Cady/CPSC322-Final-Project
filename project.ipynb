{
 "cells": [
  {
   "attachments": {},
   "cell_type": "markdown",
   "metadata": {},
   "source": [
    "# CPSC322 Project\n",
    "## The Statistical Analysis of United States Airlines During Covid-19"
   ]
  },
  {
   "attachments": {},
   "cell_type": "markdown",
   "metadata": {},
   "source": [
    "Data Source:\n",
    "- Covid Information: ourworldindata.org/covid-cases\n",
    "- Stocks Data: Yahoo Finance"
   ]
  },
  {
   "cell_type": "code",
   "execution_count": 32,
   "metadata": {},
   "outputs": [],
   "source": [
    "import importlib\n",
    "import os\n",
    "import numpy as np\n",
    "\n",
    "import mysklearn.myutils\n",
    "importlib.reload(mysklearn.myutils)\n",
    "import mysklearn.myutils as myutils\n",
    "\n",
    "import mysklearn.mypytable\n",
    "importlib.reload(mysklearn.mypytable)\n",
    "from mysklearn.mypytable import MyPyTable \n",
    "\n",
    "import mysklearn.myevaluation\n",
    "importlib.reload(mysklearn.mypytable)\n",
    "from mysklearn.myevaluation import accuracy_score, confusion_matrix\n",
    "\n",
    "import mysklearn.myclassifiers\n",
    "importlib.reload(mysklearn.myclassifiers)\n",
    "from mysklearn.myclassifiers import MyKNeighborsClassifier, MyNaiveBayesClassifier, MyDecisionTreeClassifier"
   ]
  },
  {
   "cell_type": "code",
   "execution_count": 33,
   "metadata": {},
   "outputs": [],
   "source": [
    "projectName = os.path.join(\"input_data\", \"322-Predict-Table.csv\")\n",
    "projectTable = MyPyTable().load_from_file(projectName)"
   ]
  },
  {
   "attachments": {},
   "cell_type": "markdown",
   "metadata": {},
   "source": [
    "### Analysis of JetBlue Airlines\n",
    "We used the average increase per market day and discretized as `TRUE` if the stock price went up at the end of the market day, and `FALSE` otherwise.\n",
    "\n",
    "We used attributes such as:\n",
    "- new world cases\n",
    "- new world cases increase percentage\n",
    "- total world cases\n",
    "- new world cases increase percentage\n",
    "- new us cases\n",
    "- new us cases increase percentage\n",
    "- total us cases\n",
    "- new us cases increase percentage\n",
    "- new world vaccinated \n",
    "- new-world-vaccinated-increase-(%)\n",
    "- total-world-vaccinated\n",
    "- total-world-vaccinated-increase-(%)\n",
    "- new-usa-vaccinated\n",
    "- new-usa-vaccinated-increase-(%)\n",
    "- total-usa-vaccinated \n",
    "- total-usa-vaccinated-increase-(%)"
   ]
  },
  {
   "cell_type": "code",
   "execution_count": 34,
   "metadata": {},
   "outputs": [],
   "source": [
    "y = projectTable.get_column(col_identifier=\"JBLU-Went-Up?\")\n",
    "\n",
    "col_identifiers = [\"new-world-cases\", \"new-world-cases-increase-(%)\", \"total-world-cases\", \"total-world-cases-increase-(%)\", \"new-usa-cases\", \"new-usa-cases-increase-(%)\", \"total-usa-cases\", \"total-usa-cases-increase-(%)\", \"new-world-vaccinated\", \"new-world-vaccinated-increase-(%)\", \"total-world-vaccinated\", \"total-world-vaccinated-increase-(%)\", \"new-usa-vaccinated\", \"new-usa-vaccinated-increase-(%)\", \"total-usa-vaccinated\", \"total-usa-vaccinated-increase-(%)\"]\n",
    "X = myutils.get_multiple_cols(table=projectTable.data, header=projectTable.column_names, col_identifiers=col_identifiers)"
   ]
  },
  {
   "cell_type": "code",
   "execution_count": 35,
   "metadata": {},
   "outputs": [],
   "source": [
    "np.random.seed(50)\n",
    "indexes = np.random.randint(0, len(projectTable.data), 30)\n",
    "X_train = [X[index] for index in range(len(X)) if index not in indexes]\n",
    "y_train = [y[index] for index in range(len(y)) if index not in indexes]\n",
    "X_test = [X[index] for index in indexes]\n",
    "y_sol = [y[index] for index in indexes]"
   ]
  },
  {
   "attachments": {},
   "cell_type": "markdown",
   "metadata": {},
   "source": [
    "#### kNN Classifier"
   ]
  },
  {
   "cell_type": "code",
   "execution_count": 36,
   "metadata": {},
   "outputs": [],
   "source": [
    "kNN_clf = MyKNeighborsClassifier(n_neighbors=5)\n",
    "kNN_clf.fit(X_train=X_train, y_train=y_train)\n",
    "\n",
    "y_pred = kNN_clf.predict(X_test=X_test)\n",
    "\n",
    "acc_scr = accuracy_score(y_sol, y_pred)\n",
    "con_max = confusion_matrix(y_sol, y_pred, [\"TRUE\", \"FALSE\"])"
   ]
  },
  {
   "attachments": {},
   "cell_type": "markdown",
   "metadata": {},
   "source": [
    "Using the random seed of 50, with number of neighbors being 5, we achieved an accuracy score of `40%`.\n",
    "\n",
    "##### Confusion Matrix\n",
    "||TRUE|FALSE|TOTAL|\n",
    "|:-:|:-:|:-:|:-:|\n",
    "|TRUE|5|9|14|\n",
    "|FALSE|9|7|16|\n",
    "|TOTAL|14|16|30|"
   ]
  },
  {
   "attachments": {},
   "cell_type": "markdown",
   "metadata": {},
   "source": [
    "#### Naive Bayes Classifier"
   ]
  },
  {
   "cell_type": "code",
   "execution_count": 37,
   "metadata": {},
   "outputs": [],
   "source": [
    "nb_clf = MyNaiveBayesClassifier()\n",
    "nb_clf.fit(X_train=X_train, y_train=y_train)\n",
    "\n",
    "y_pred = nb_clf.predict(X_test=X_test)\n",
    "\n",
    "acc_scr = accuracy_score(y_sol, y_pred)\n",
    "con_max = confusion_matrix(y_sol, y_pred, [\"TRUE\", \"FALSE\"])"
   ]
  },
  {
   "attachments": {},
   "cell_type": "markdown",
   "metadata": {},
   "source": [
    "Using the random seed of 50, with number of test size being 30, we achieved an accuracy score of `53%`.\n",
    "\n",
    "##### Confusion Matrix\n",
    "||TRUE|FALSE|TOTAL|\n",
    "|:-:|:-:|:-:|:-:|\n",
    "|TRUE|0|14|14|\n",
    "|FALSE|0|16|16|\n",
    "|TOTAL|0|30|30|"
   ]
  },
  {
   "attachments": {},
   "cell_type": "markdown",
   "metadata": {},
   "source": [
    "### Analysis of United Airline"
   ]
  },
  {
   "cell_type": "code",
   "execution_count": 38,
   "metadata": {},
   "outputs": [],
   "source": [
    "y = projectTable.get_column(col_identifier=\"UAL-Went-Up?\")\n",
    "y_train = [y[index] for index in range(len(y)) if index not in indexes]\n",
    "y_sol = [y[index] for index in indexes]"
   ]
  },
  {
   "attachments": {},
   "cell_type": "markdown",
   "metadata": {},
   "source": [
    "#### kNN Classifier"
   ]
  },
  {
   "cell_type": "code",
   "execution_count": 39,
   "metadata": {},
   "outputs": [],
   "source": [
    "kNN_clf = MyKNeighborsClassifier(n_neighbors=5)\n",
    "kNN_clf.fit(X_train=X_train, y_train=y_train)\n",
    "\n",
    "y_pred = kNN_clf.predict(X_test=X_test)\n",
    "\n",
    "acc_scr = accuracy_score(y_sol, y_pred)\n",
    "con_max = confusion_matrix(y_sol, y_pred, [\"TRUE\", \"FALSE\"])"
   ]
  },
  {
   "attachments": {},
   "cell_type": "markdown",
   "metadata": {},
   "source": [
    "Using the random seed of 50, with number of neighbors being 5, we achieved an accuracy score of `47%`.\n",
    "\n",
    "##### Confusion Matrix\n",
    "||TRUE|FALSE|TOTAL|\n",
    "|:-:|:-:|:-:|:-:|\n",
    "|TRUE|5|9|14|\n",
    "|FALSE|7|9|16|\n",
    "|TOTAL|12|18|30|"
   ]
  },
  {
   "attachments": {},
   "cell_type": "markdown",
   "metadata": {},
   "source": [
    "#### Naive Bayes Classifier"
   ]
  },
  {
   "cell_type": "code",
   "execution_count": 40,
   "metadata": {},
   "outputs": [],
   "source": [
    "nb_clf = MyNaiveBayesClassifier()\n",
    "nb_clf.fit(X_train=X_train, y_train=y_train)\n",
    "\n",
    "y_pred = nb_clf.predict(X_test=X_test)\n",
    "\n",
    "acc_scr = accuracy_score(y_sol, y_pred)\n",
    "con_max = confusion_matrix(y_sol, y_pred, [\"TRUE\", \"FALSE\"])"
   ]
  },
  {
   "attachments": {},
   "cell_type": "markdown",
   "metadata": {},
   "source": [
    "Using the random seed of 50, with number of test size being 30, we achieved an accuracy score of `53%`.\n",
    "\n",
    "##### Confusion Matrix\n",
    "||TRUE|FALSE|TOTAL|\n",
    "|:-:|:-:|:-:|:-:|\n",
    "|TRUE|0|14|14|\n",
    "|FALSE|0|16|16|\n",
    "|TOTAL|0|30|30|"
   ]
  },
  {
   "attachments": {},
   "cell_type": "markdown",
   "metadata": {},
   "source": [
    "### Analysis of American Airline"
   ]
  },
  {
   "cell_type": "code",
   "execution_count": 41,
   "metadata": {},
   "outputs": [],
   "source": [
    "y = projectTable.get_column(col_identifier=\"AAL-Went-Up?\")\n",
    "y_train = [y[index] for index in range(len(y)) if index not in indexes]\n",
    "y_sol = [y[index] for index in indexes]"
   ]
  },
  {
   "cell_type": "code",
   "execution_count": 42,
   "metadata": {},
   "outputs": [],
   "source": [
    "kNN_clf = MyKNeighborsClassifier(n_neighbors=5)\n",
    "kNN_clf.fit(X_train=X_train, y_train=y_train)\n",
    "\n",
    "y_pred = kNN_clf.predict(X_test=X_test)\n",
    "\n",
    "acc_scr = accuracy_score(y_sol, y_pred)\n",
    "con_max = confusion_matrix(y_sol, y_pred, [\"TRUE\", \"FALSE\"])"
   ]
  },
  {
   "attachments": {},
   "cell_type": "markdown",
   "metadata": {},
   "source": [
    "Using the random seed of 50, with number of neighbors being 5, we achieved an accuracy score of `56%`.\n",
    "\n",
    "##### Confusion Matrix\n",
    "||TRUE|FALSE|TOTAL\n",
    "|:-:|:-:|:-:|:-:|\n",
    "|TRUE|6|7|13|\n",
    "|FALSE|6|11|17|\n",
    "|TOTAL|12|18|30|"
   ]
  },
  {
   "attachments": {},
   "cell_type": "markdown",
   "metadata": {},
   "source": [
    "#### Naive Bayes Classifier"
   ]
  },
  {
   "cell_type": "code",
   "execution_count": 43,
   "metadata": {},
   "outputs": [],
   "source": [
    "nb_clf = MyNaiveBayesClassifier()\n",
    "nb_clf.fit(X_train=X_train, y_train=y_train)\n",
    "\n",
    "y_pred = nb_clf.predict(X_test=X_test)\n",
    "\n",
    "acc_scr = accuracy_score(y_sol, y_pred)\n",
    "con_max = confusion_matrix(y_sol, y_pred, [\"TRUE\", \"FALSE\"])"
   ]
  },
  {
   "attachments": {},
   "cell_type": "markdown",
   "metadata": {},
   "source": [
    "Using the random seed of 50, with number of test size being 30, we achieved an accuracy score of `57%`.\n",
    "\n",
    "##### Confusion Matrix\n",
    "||TRUE|FALSE|TOTAL|\n",
    "|:-:|:-:|:-:|:-:|\n",
    "|TRUE|0|13|13|\n",
    "|FALSE|0|17|17|\n",
    "|TOTAL|0|30|30|"
   ]
  }
 ],
 "metadata": {
  "kernelspec": {
   "display_name": "base",
   "language": "python",
   "name": "python3"
  },
  "language_info": {
   "codemirror_mode": {
    "name": "ipython",
    "version": 3
   },
   "file_extension": ".py",
   "mimetype": "text/x-python",
   "name": "python",
   "nbconvert_exporter": "python",
   "pygments_lexer": "ipython3",
   "version": "3.9.12"
  },
  "orig_nbformat": 4,
  "vscode": {
   "interpreter": {
    "hash": "d4d1e4263499bec80672ea0156c357c1ee493ec2b1c70f0acce89fc37c4a6abe"
   }
  }
 },
 "nbformat": 4,
 "nbformat_minor": 2
}
