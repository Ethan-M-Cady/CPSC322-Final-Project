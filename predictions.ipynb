{
 "cells": [
  {
   "cell_type": "code",
   "execution_count": 267,
   "metadata": {},
   "outputs": [],
   "source": [
    "import importlib\n",
    "import os\n",
    "import numpy as np\n",
    "\n",
    "import mysklearn.myutils\n",
    "importlib.reload(mysklearn.myutils)\n",
    "import mysklearn.myutils as myutils\n",
    "\n",
    "import mysklearn.mypytable\n",
    "importlib.reload(mysklearn.mypytable)\n",
    "from mysklearn.mypytable import MyPyTable \n",
    "\n",
    "import mysklearn.myevaluation\n",
    "importlib.reload(mysklearn.mypytable)\n",
    "from mysklearn.myevaluation import accuracy_score, confusion_matrix\n",
    "\n",
    "import mysklearn.myclassifiers\n",
    "importlib.reload(mysklearn.myclassifiers)\n",
    "from mysklearn.myclassifiers import MyKNeighborsClassifier, MyNaiveBayesClassifier, MyDecisionTreeClassifier"
   ]
  },
  {
   "cell_type": "code",
   "execution_count": 268,
   "metadata": {},
   "outputs": [],
   "source": [
    "projectName = os.path.join(\"input_data\", \"322-Predict-Table.csv\")\n",
    "projectTable = MyPyTable().load_from_file(projectName)"
   ]
  },
  {
   "cell_type": "code",
   "execution_count": 269,
   "metadata": {},
   "outputs": [],
   "source": [
    "y = JBLUPercentIncrease = projectTable.get_column(col_identifier=\"JBLU-Went-Up?\")\n",
    "\n",
    "col_identifiers = [\"new-world-cases\", \"new-world-cases-increase-(%)\", \"total-world-cases\", \"total-world-cases-increase-(%)\", \"new-usa-cases\", \"new-usa-cases-increase-(%)\", \"total-usa-cases\", \"total-usa-cases-increase-(%)\", \"new-world-vaccinated\", \"new-world-vaccinated-increase-(%)\", \"total-world-vaccinated\", \"total-world-vaccinated-increase-(%)\", \"new-usa-vaccinated\", \"new-usa-vaccinated-increase-(%)\", \"total-usa-vaccinated\", \"total-usa-vaccinated-increase-(%)\"]\n",
    "X = myutils.get_multiple_cols(table=projectTable.data, header=projectTable.column_names, col_identifiers=col_identifiers)"
   ]
  },
  {
   "cell_type": "code",
   "execution_count": 270,
   "metadata": {},
   "outputs": [],
   "source": [
    "np.random.seed(50)\n",
    "indexes = np.random.randint(0, len(projectTable.data), 30)\n",
    "X_train = [X[index] for index in range(len(X)) if index not in indexes]\n",
    "y_train = [y[index] for index in range(len(y)) if index not in indexes]\n",
    "X_test = [X[index] for index in indexes]\n",
    "y_sol = [y[index] for index in indexes]"
   ]
  },
  {
   "cell_type": "code",
   "execution_count": 271,
   "metadata": {},
   "outputs": [
    {
     "name": "stdout",
     "output_type": "stream",
     "text": [
      "0.4\n",
      "[[5, 9], [9, 7]]\n"
     ]
    }
   ],
   "source": [
    "kNN_clf = MyKNeighborsClassifier(n_neighbors=5)\n",
    "kNN_clf.fit(X_train=X_train, y_train=y_train)\n",
    "\n",
    "y_pred = kNN_clf.predict(X_test=X_test)\n",
    "\n",
    "acc_scr = accuracy_score(y_sol, y_pred)\n",
    "con_max = confusion_matrix(y_sol, y_pred, [\"TRUE\", \"FALSE\"])\n",
    "\n",
    "print(acc_scr)\n",
    "print(con_max)"
   ]
  },
  {
   "cell_type": "code",
   "execution_count": 272,
   "metadata": {},
   "outputs": [
    {
     "name": "stdout",
     "output_type": "stream",
     "text": [
      "0.5333333333333333\n",
      "[[0, 14], [0, 16]]\n"
     ]
    }
   ],
   "source": [
    "nb_clf = MyNaiveBayesClassifier()\n",
    "nb_clf.fit(X_train=X_train, y_train=y_train)\n",
    "\n",
    "y_pred = nb_clf.predict(X_test=X_test)\n",
    "\n",
    "acc_scr = accuracy_score(y_sol, y_pred)\n",
    "con_max = confusion_matrix(y_sol, y_pred, [\"TRUE\", \"FALSE\"])\n",
    "\n",
    "print(acc_scr)\n",
    "print(con_max)"
   ]
  }
 ],
 "metadata": {
  "kernelspec": {
   "display_name": "base",
   "language": "python",
   "name": "python3"
  },
  "language_info": {
   "codemirror_mode": {
    "name": "ipython",
    "version": 3
   },
   "file_extension": ".py",
   "mimetype": "text/x-python",
   "name": "python",
   "nbconvert_exporter": "python",
   "pygments_lexer": "ipython3",
   "version": "3.9.12"
  },
  "orig_nbformat": 4,
  "vscode": {
   "interpreter": {
    "hash": "d4d1e4263499bec80672ea0156c357c1ee493ec2b1c70f0acce89fc37c4a6abe"
   }
  }
 },
 "nbformat": 4,
 "nbformat_minor": 2
}
